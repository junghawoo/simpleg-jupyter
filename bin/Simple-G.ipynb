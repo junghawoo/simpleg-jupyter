{
 "cells": [
  {
   "cell_type": "code",
   "execution_count": 1,
   "metadata": {
    "scrolled": true
   },
   "outputs": [
    {
     "ename": "SyntaxError",
     "evalue": "invalid syntax (mapwidget.py, line 99)",
     "output_type": "error",
     "traceback": [
      "Traceback \u001b[0;36m(most recent call last)\u001b[0m:\n",
      "  File \u001b[1;32m\"/apps/share64/debian10/anaconda/anaconda-7/envs/qgis/lib/python3.8/site-packages/IPython/core/interactiveshell.py\"\u001b[0m, line \u001b[1;32m3343\u001b[0m, in \u001b[1;35mrun_code\u001b[0m\n    exec(code_obj, self.user_global_ns, self.user_ns)\n",
      "  File \u001b[1;32m\"<ipython-input-1-7fecafcd6f52>\"\u001b[0m, line \u001b[1;32m5\u001b[0m, in \u001b[1;35m<module>\u001b[0m\n    from scripts import view       as sg_view\n",
      "\u001b[0;36m  File \u001b[0;32m\"/home/mygeohub/junghawoo/simpleg-jupyter-20230209/simpleg-jupyter/bin/scripts/view.py\"\u001b[0;36m, line \u001b[0;32m7\u001b[0;36m, in \u001b[0;35m<module>\u001b[0;36m\u001b[0m\n\u001b[0;31m    from scripts.mapwidget import CustomMap\u001b[0m\n",
      "\u001b[0;36m  File \u001b[0;32m\"/home/mygeohub/junghawoo/simpleg-jupyter-20230209/simpleg-jupyter/bin/scripts/mapwidget.py\"\u001b[0;36m, line \u001b[0;32m99\u001b[0m\n\u001b[0;31m    if( self.controller != None and self._raster_service != None:):\u001b[0m\n\u001b[0m                                                                ^\u001b[0m\n\u001b[0;31mSyntaxError\u001b[0m\u001b[0;31m:\u001b[0m invalid syntax\n"
     ]
    }
   ],
   "source": [
    "import sys\n",
    "\n",
    "#Import from scripts folder\n",
    "from scripts import model      as sg_model\n",
    "from scripts import view       as sg_view\n",
    "from scripts import controller as sg_controller\n",
    "import gdal2tiles\n",
    "\n",
    "\n",
    "from IPython.display import HTML, display\n",
    "from PIL import Image\n",
    "\n",
    "    \n",
    "display(HTML(filename='style.html'))  # Generic app appearance \n",
    "display(HTML(filename='header.html')) # Notebook-specific title and style\n",
    "\n",
    "## Create MVC objects\n",
    "model = sg_model.Model()\n",
    "view  = sg_view.View()\n",
    "ctrl  = sg_controller.Controller(log_mode=0) # 0=none 1=info 2=debug\n",
    "\n",
    "## Inform MVC objects of each other\n",
    "model.intro(view,ctrl)\n",
    "view.intro(model,ctrl)\n",
    "ctrl.intro(model,view)\n",
    "\n",
    "## Run the notebook\n",
    "ctrl.start()\n",
    "\n"
   ]
  },
  {
   "cell_type": "code",
   "execution_count": null,
   "metadata": {},
   "outputs": [],
   "source": []
  },
  {
   "cell_type": "code",
   "execution_count": null,
   "metadata": {},
   "outputs": [],
   "source": []
  },
  {
   "cell_type": "code",
   "execution_count": null,
   "metadata": {},
   "outputs": [],
   "source": []
  },
  {
   "cell_type": "code",
   "execution_count": null,
   "metadata": {},
   "outputs": [],
   "source": []
  },
  {
   "cell_type": "code",
   "execution_count": null,
   "metadata": {},
   "outputs": [],
   "source": []
  }
 ],
 "metadata": {
  "kernelspec": {
   "display_name": "Python3 (qgis)",
   "language": "python",
   "name": "qgis"
  },
  "language_info": {
   "codemirror_mode": {
    "name": "ipython",
    "version": 3
   },
   "file_extension": ".py",
   "mimetype": "text/x-python",
   "name": "python",
   "nbconvert_exporter": "python",
   "pygments_lexer": "ipython3",
   "version": "3.8.3"
  }
 },
 "nbformat": 4,
 "nbformat_minor": 4
}
